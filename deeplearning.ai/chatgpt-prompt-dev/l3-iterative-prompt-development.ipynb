{
 "cells": [
  {
   "cell_type": "markdown",
   "id": "b97ddf3b-d921-4169-9d82-b0ee95e9eccd",
   "metadata": {},
   "source": [
    "# Iterative Prompt Development\n",
    "In this lesson, you'll iteratively analyze and refine your prompts to generate marketing copy from a product fact sheet.\n",
    "\n",
    "## Setup"
   ]
  },
  {
   "cell_type": "code",
   "execution_count": 11,
   "id": "2800e646",
   "metadata": {
    "tags": []
   },
   "outputs": [],
   "source": [
    "import os\n",
    "from dotenv import load_dotenv, find_dotenv\n",
    "import requests\n",
    "\n",
    "# Load environment variables from .env file\n",
    "_ = load_dotenv(find_dotenv())\n",
    "\n",
    "# Set the API key\n",
    "api_key = os.environ['GOOGLE_API_KEY']\n",
    " "
   ]
  },
  {
   "cell_type": "code",
   "execution_count": 12,
   "id": "9fb6f2de",
   "metadata": {
    "tags": []
   },
   "outputs": [],
   "source": [
    "def get_completion(prompt):\n",
    "    # Set the API endpoint\n",
    "    endpoint = \"https://generativelanguage.googleapis.com/v1beta\"\n",
    "    # Prepare the request body\n",
    "    request_body = {\n",
    "        \"contents\": [\n",
    "            {\n",
    "                \"parts\": [\n",
    "                    {\n",
    "                        \"text\": prompt\n",
    "                    }\n",
    "                ]\n",
    "            }\n",
    "        ]\n",
    "    }\n",
    "\n",
    "    # Make the request to Generative Language API\n",
    "    response = requests.post(\n",
    "        f\"{endpoint}/models/gemini-pro:generateContent?key={api_key}\",\n",
    "        json=request_body,\n",
    "    )\n",
    "    return response.json()['candidates'][0]['content']['parts'][0]['text']\n",
    "\n",
    "    "
   ]
  },
  {
   "cell_type": "markdown",
   "id": "ffc2b32f-73da-4ef0-81f6-0c7bff70783d",
   "metadata": {},
   "source": [
    "**Note**: In June 2023, OpenAI updated gpt-3.5-turbo. The results you see in the notebook may be slightly different than those in the video. Some of the prompts have also been slightly modified to product the desired results."
   ]
  },
  {
   "cell_type": "markdown",
   "id": "71d1a1df-03c3-4f38-af6d-3962362f3dcd",
   "metadata": {},
   "source": [
    "## Generate a marketing product description from a product fact sheet"
   ]
  },
  {
   "cell_type": "code",
   "execution_count": 13,
   "id": "5be90e47",
   "metadata": {
    "tags": []
   },
   "outputs": [],
   "source": [
    "fact_sheet_chair = \"\"\"\n",
    "OVERVIEW\n",
    "- Part of a beautiful family of mid-century inspired office furniture, \n",
    "including filing cabinets, desks, bookcases, meeting tables, and more.\n",
    "- Several options of shell color and base finishes.\n",
    "- Available with plastic back and front upholstery (SWC-100) \n",
    "or full upholstery (SWC-110) in 10 fabric and 6 leather options.\n",
    "- Base finish options are: stainless steel, matte black, \n",
    "gloss white, or chrome.\n",
    "- Chair is available with or without armrests.\n",
    "- Suitable for home or business settings.\n",
    "- Qualified for contract use.\n",
    "\n",
    "CONSTRUCTION\n",
    "- 5-wheel plastic coated aluminum base.\n",
    "- Pneumatic chair adjust for easy raise/lower action.\n",
    "\n",
    "DIMENSIONS\n",
    "- WIDTH 53 CM | 20.87”\n",
    "- DEPTH 51 CM | 20.08”\n",
    "- HEIGHT 80 CM | 31.50”\n",
    "- SEAT HEIGHT 44 CM | 17.32”\n",
    "- SEAT DEPTH 41 CM | 16.14”\n",
    "\n",
    "OPTIONS\n",
    "- Soft or hard-floor caster options.\n",
    "- Two choices of seat foam densities: \n",
    " medium (1.8 lb/ft3) or high (2.8 lb/ft3)\n",
    "- Armless or 8 position PU armrests \n",
    "\n",
    "MATERIALS\n",
    "SHELL BASE GLIDER\n",
    "- Cast Aluminum with modified nylon PA6/PA66 coating.\n",
    "- Shell thickness: 10 mm.\n",
    "SEAT\n",
    "- HD36 foam\n",
    "\n",
    "COUNTRY OF ORIGIN\n",
    "- Italy\n",
    "\"\"\""
   ]
  },
  {
   "cell_type": "code",
   "execution_count": 5,
   "id": "2f1cc9d2",
   "metadata": {},
   "outputs": [],
   "source": [
    "fact_sheet_chair = \"\"\"\n",
    "Experience unparalleled audio freedom with the LuminaX Ultra Wireless Earbuds, engineered to deliver premium sound quality and unmatched comfort. Designed for the modern audiophile, these cutting-edge earbuds combine advanced technology with sleek aesthetics, offering a truly immersive listening experience wherever you go.\n",
    "Key Features:\n",
    "- Sound Quality\n",
    "- Wireless Earbuds\n",
    "- Comfort\n",
    "- Long-lasting Battery Life\n",
    "COUNTRY OF ORIGIN\n",
    "- INDIA\n",
    "\"\"\""
   ]
  },
  {
   "cell_type": "code",
   "execution_count": 15,
   "id": "4f656d0c",
   "metadata": {
    "tags": []
   },
   "outputs": [
    {
     "name": "stdout",
     "output_type": "stream",
     "text": [
      "**Embrace Comfort and Style with the SWC-100 Mid-Century Modern Office Chair**\n",
      "\n",
      "Indulge in the timeless elegance of mid-century design with our SWC-100 office chair. Crafted in Italy, this chair exudes sophistication and versatility, making it the perfect choice for your home office or professional workspace.\n",
      "\n",
      "**Customizable Comfort:**\n",
      "\n",
      "Choose from a range of stylish shell colors and base finishes to match your décor, including stainless steel, matte black, gloss white, and chrome. Our chairs come with either a plastic back and front upholstery or full upholstery in 10 fabric and 6 leather options.\n",
      "\n",
      "**Ergonomic Excellence:**\n",
      "\n",
      "Experience effortless comfort with our pneumatic chair adjustment for easy height adjustment. The 5-wheel plastic coated aluminum base ensures smooth mobility. Select between soft or hard-floor casters for the perfect roll.\n",
      "\n",
      "**Versatile Design:**\n",
      "\n",
      "Whether you prefer an armless design or our adjustable PU armrests, the SWC-100 adapts to your needs. Choose between medium or high seat foam densities for personalized support.\n",
      "\n",
      "**Durable Construction:**\n",
      "\n",
      "Our chairs are built to last with a sturdy cast aluminum shell and a durable plastic coating. The shell thickness of 10mm ensures long-lasting performance. HD36 foam provides exceptional seat comfort that will withstand daily use.\n",
      "\n",
      "**Contract-Grade Quality:**\n",
      "\n",
      "Rest assured that our SWC-100 chair meets the demanding standards of contract use, making it a reliable choice for any office environment.\n"
     ]
    }
   ],
   "source": [
    "prompt = f\"\"\"\n",
    "Your task is to help a marketing team create a \n",
    "description for a retail website of a product based \n",
    "on a technical fact sheet.\n",
    "\n",
    "Write a product description based on the information \n",
    "provided in the technical specifications delimited by \n",
    "triple backticks.\n",
    "\n",
    "Technical specifications: ```{fact_sheet_chair}```\n",
    "\"\"\"\n",
    "response = get_completion(prompt)\n",
    "print(response)\n"
   ]
  },
  {
   "cell_type": "markdown",
   "id": "e1361d6f-6022-4b7a-8107-b2e2ff5efd32",
   "metadata": {},
   "source": [
    "## Issue 1: The text is too long \n",
    "- Limit the number of words/sentences/characters."
   ]
  },
  {
   "cell_type": "code",
   "execution_count": 5,
   "id": "f6129532",
   "metadata": {
    "tags": []
   },
   "outputs": [
    {
     "name": "stdout",
     "output_type": "stream",
     "text": [
      "Introducing our versatile and stylish office chair, part of a mid-century inspired furniture collection. Available in various colors and finishes, with options for upholstery and armrests. Designed for both home and business use, with a durable construction and adjustable height feature. Made in Italy with quality materials.\n"
     ]
    }
   ],
   "source": [
    "prompt = f\"\"\"\n",
    "Your task is to help a marketing team create a \n",
    "description for a retail website of a product based \n",
    "on a technical fact sheet.\n",
    "\n",
    "Write a product description based on the information \n",
    "provided in the technical specifications delimited by \n",
    "triple backticks.\n",
    "\n",
    "Use at most 50 words.\n",
    "\n",
    "Technical specifications: ```{fact_sheet_chair}```\n",
    "\"\"\"\n",
    "response = get_completion(prompt)\n",
    "print(response)\n"
   ]
  },
  {
   "cell_type": "code",
   "execution_count": 20,
   "id": "3cff9a03",
   "metadata": {},
   "outputs": [
    {
     "name": "stdout",
     "output_type": "stream",
     "text": [
      "As the sun rises in the sky, its warm rays spread across the land, casting a golden glow over everything it touches. The birds, awakened by the light, begin to chirp joyfully, their melodies filling the air with a symphony of nature's music. The flowers, bathed in the sunlight, open their petals to reveal vibrant colors and delicate fragrances, adding to the beauty of the scene.\n",
      "\n",
      "The world seems to come alive in the brightness of the day, with each element of nature playing its part in creating a harmonious and picturesque landscape. The sun's rays dance on the leaves of the trees, creating patterns of light and shadow that sway gently in the breeze. The birds flit from branch to branch, their wings catching the sunlight as they soar through the sky.\n",
      "\n",
      "The flowers, with their intricate designs and intricate details, seem to be celebrating the arrival of the sun, their blooms reaching towards the light in a display of nature's resilience and beauty. It is a scene of pure serenity and tranquility, a moment in time where everything seems to be in perfect harmony with the world around it.\n",
      "\n",
      "In this moment, the sun shines bright, the birds chirp in delight, and the flowers bloom in the light, creating a symphony of sights and sounds that remind us of the beauty and wonder of the natural world.\n"
     ]
    }
   ],
   "source": [
    "prompt = f\"\"\"\n",
    "The sun shines bright. Birds chirp in delight. Flowers bloom in the light.\n",
    "Write a description based on the information \n",
    "provided\n",
    "\n",
    "use at most 250 words.\n",
    "\n",
    "\"\"\"\n",
    "response = get_completion(prompt)\n",
    "print(response)"
   ]
  },
  {
   "cell_type": "code",
   "execution_count": null,
   "id": "17f658d0",
   "metadata": {
    "tags": []
   },
   "outputs": [],
   "source": [
    "len(response.split())"
   ]
  },
  {
   "cell_type": "markdown",
   "id": "a6de9c92-857c-4d1c-8fd1-192cf47c4763",
   "metadata": {},
   "source": [
    "## Issue 2. Text focuses on the wrong details\n",
    "- Ask it to focus on the aspects that are relevant to the intended audience."
   ]
  },
  {
   "cell_type": "code",
   "execution_count": null,
   "id": "954a8a06",
   "metadata": {
    "tags": []
   },
   "outputs": [],
   "source": [
    "prompt = f\"\"\"\n",
    "Your task is to help a marketing team create a \n",
    "description for a retail website of a product based \n",
    "on a technical fact sheet.\n",
    "\n",
    "Write a product description based on the information \n",
    "provided in the technical specifications delimited by \n",
    "triple backticks.\n",
    "\n",
    "The description is intended for furniture retailers, \n",
    "so should be technical in nature and focus on the \n",
    "materials the product is constructed from.\n",
    "\n",
    "Use at most 50 words.\n",
    "\n",
    "Technical specifications: ```{fact_sheet_chair}```\n",
    "\"\"\"\n",
    "response = get_completion(prompt)\n",
    "print(response)"
   ]
  },
  {
   "cell_type": "code",
   "execution_count": 24,
   "id": "d978d293",
   "metadata": {},
   "outputs": [
    {
     "name": "stdout",
     "output_type": "stream",
     "text": [
      "```\n",
      "Specifications:\n",
      "- The problem should be relatable to real-life situations.\n",
      "- It should involve mathematical concepts such as addition, subtraction, multiplication, division, percentages, or ratios.\n",
      "- The problem should be clear and concise, with all necessary information provided.\n",
      "- It should require critical thinking and problem-solving skills to solve.\n",
      "- The solution should be logical and mathematically sound.\n",
      "- The problem should be engaging and interesting to the audience.\n",
      "- The problem should be solvable within a reasonable amount of time.\n",
      "- The problem should have a clear answer or solution that can be verified.\n",
      "- The problem should encourage the application of mathematical concepts to practical scenarios.\n",
      "```\n"
     ]
    }
   ],
   "source": [
    "prompt = f\"\"\"\n",
    "in mathematics, you could present problems that relate to everyday scenarios, like budgeting money or analyzing sports statistics.\n",
    "write a specifications delimited by \n",
    "triple backticks.\n",
    "\n",
    "use  at most 150 words.\n",
    "\n",
    "\"\"\"\n",
    "response = get_completion(prompt)\n",
    "print(response)"
   ]
  },
  {
   "cell_type": "code",
   "execution_count": 27,
   "id": "e3a80a20",
   "metadata": {},
   "outputs": [
    {
     "name": "stdout",
     "output_type": "stream",
     "text": [
      "1. Wireless connectivity for freedom of movement during workouts.\n",
      "2. Sweat and water resistance to withstand intense exercise sessions.\n",
      "3. Secure and comfortable fit to stay in place during high-impact activities.\n",
      "4. Long battery life for extended use without interruptions.\n",
      "5. High-quality sound performance to keep you motivated and focused during your workouts.\n"
     ]
    }
   ],
   "source": [
    "prompt = f\"\"\"\n",
    "Are you tired of dealing with cumbersome headphone cords while you're pushing your limits at the gym? Say hello to the LuminaX Ultra Wireless Earbuds, designed specifically with fitness enthusiasts in mind. Engineered to provide unmatched audio performance and maximum comfort, these earbuds are your ultimate workout companion.\n",
    "\n",
    " \n",
    " give me 5 list of key features for fitness headphone:\n",
    " use at most 100 words.\n",
    " \"\"\"\n",
    "response = get_completion(prompt)\n",
    "print(response)\n",
    "\n"
   ]
  },
  {
   "cell_type": "code",
   "execution_count": null,
   "id": "e9455d58",
   "metadata": {
    "tags": []
   },
   "outputs": [],
   "source": [
    "prompt = f\"\"\"\n",
    "Your task is to help a marketing team create a \n",
    "description for a retail website of a product based \n",
    "on a technical fact sheet.\n",
    "\n",
    "Write a product description based on the information \n",
    "provided in the technical specifications delimited by \n",
    "triple backticks.\n",
    "\n",
    "The description is intended for furniture retailers, \n",
    "so should be technical in nature and focus on the \n",
    "materials the product is constructed from.\n",
    "\n",
    "At the end of the description, include every 7-character \n",
    "Product ID in the technical specification.\n",
    "\n",
    "Use at most 50 words.\n",
    "\n",
    "Technical specifications: ```{fact_sheet_chair}```\n",
    "\"\"\"\n",
    "response = get_completion(prompt)\n",
    "print(response)"
   ]
  },
  {
   "cell_type": "markdown",
   "id": "5be496d5-54c9-443b-8116-0b3d3d9dc560",
   "metadata": {},
   "source": [
    "## Issue 3. Description needs a table of dimensions\n",
    "- Ask it to extract information and organize it in a table."
   ]
  },
  {
   "cell_type": "code",
   "execution_count": null,
   "id": "0384f1e4",
   "metadata": {
    "tags": []
   },
   "outputs": [],
   "source": [
    "prompt = f\"\"\"\n",
    "Your task is to help a marketing team create a \n",
    "description for a retail website of a product based \n",
    "on a technical fact sheet.\n",
    "\n",
    "Write a product description based on the information \n",
    "provided in the technical specifications delimited by \n",
    "triple backticks.\n",
    "\n",
    "The description is intended for furniture retailers, \n",
    "so should be technical in nature and focus on the \n",
    "materials the product is constructed from.\n",
    "\n",
    "At the end of the description, include every 7-character \n",
    "Product ID in the technical specification.\n",
    "\n",
    "After the description, include a table that gives the \n",
    "product's dimensions. The table should have two columns.\n",
    "In the first column include the name of the dimension. \n",
    "In the second column include the measurements in inches only.\n",
    "\n",
    "Give the table the title 'Product Dimensions'.\n",
    "\n",
    "Format everything as HTML that can be used in a website. \n",
    "Place the description in a <div> element.\n",
    "\n",
    "Technical specifications: ```{fact_sheet_chair}```\n",
    "\"\"\"\n",
    "\n",
    "response = get_completion(prompt)\n",
    "print(response)"
   ]
  },
  {
   "cell_type": "code",
   "execution_count": 14,
   "id": "6828d06c",
   "metadata": {},
   "outputs": [
    {
     "name": "stdout",
     "output_type": "stream",
     "text": [
      "| Brand | Model | Screen Size (inches) | Camera Resolution (MP) | Price (in Rupees) |\n",
      "|---|---|---|---|---|\n",
      "| Apple | iPhone 13 | 6.1 | 12 + 12 | 79,900 |\n",
      "| Samsung | Galaxy S22 | 6.1 | 50 + 12 + 10 | 72,999 |\n",
      "| Google | Pixel 6 | 6.4 | 50 + 12 | 59,999 |\n",
      "| OnePlus | 10 Pro | 6.7 | 48 + 50 + 8 | 66,999 |\n",
      "| Xiaomi | 12 Pro | 6.7 | 50 + 50 + 50 | 62,999 |\n",
      "| Oppo | Find X5 Pro | 6.7 | 50 + 50 + 13 | 79,999 |\n",
      "| Vivo | X80 Pro | 6.78 | 50 + 48 + 12 | 79,999 |\n",
      "| Realme | GT2 Pro | 6.7 | 50 + 50 + 2 | 56,999 |\n",
      "| Motorola | Edge 30 Ultra | 6.67 | 200 + 50 + 12 | 59,999 |\n",
      "| Nokia | X20 | 6.67 | 64 + 5 + 2 | 25,999 |\n"
     ]
    }
   ],
   "source": [
    "prompt = f\"\"\"\n",
    "we want to extract information about various smartphones and organize it into a table. We'll gather data such as the brand, model, screen size, camera resolution, and price in rupees.\n",
    "\"\"\"\n",
    "\n",
    "response = get_completion(prompt)\n",
    "print(response)"
   ]
  },
  {
   "cell_type": "markdown",
   "id": "d681db67-6d59-40c1-a36b-4d76729a690d",
   "metadata": {},
   "source": [
    "## Load Python libraries to view HTML"
   ]
  },
  {
   "cell_type": "code",
   "execution_count": null,
   "id": "73ff0052",
   "metadata": {
    "tags": []
   },
   "outputs": [],
   "source": [
    "from IPython.display import display, HTML"
   ]
  },
  {
   "cell_type": "code",
   "execution_count": null,
   "id": "3465ffce",
   "metadata": {
    "tags": []
   },
   "outputs": [],
   "source": [
    "display(HTML(response))"
   ]
  },
  {
   "cell_type": "markdown",
   "id": "8ed02a02-9e12-4f63-97bd-f52064b18666",
   "metadata": {},
   "source": [
    "## Try experimenting on your own!"
   ]
  },
  {
   "cell_type": "code",
   "execution_count": null,
   "id": "dbe1f850",
   "metadata": {},
   "outputs": [],
   "source": []
  }
 ],
 "metadata": {
  "kernelspec": {
   "display_name": "Python 3 (ipykernel)",
   "language": "python",
   "name": "python3"
  },
  "language_info": {
   "codemirror_mode": {
    "name": "ipython",
    "version": 3
   },
   "file_extension": ".py",
   "mimetype": "text/x-python",
   "name": "python",
   "nbconvert_exporter": "python",
   "pygments_lexer": "ipython3",
   "version": "3.10.12"
  }
 },
 "nbformat": 4,
 "nbformat_minor": 5
}
