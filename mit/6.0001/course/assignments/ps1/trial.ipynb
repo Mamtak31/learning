{
 "cells": [
  {
   "cell_type": "code",
   "execution_count": 2,
   "metadata": {},
   "outputs": [
    {
     "name": "stdout",
     "output_type": "stream",
     "text": [
      "Number of months: 183\n"
     ]
    }
   ],
   "source": [
    "# annual_salary = float(input(\"Enter the starting annual salary\"))\n",
    "# portion_saved = float(input(\"Enter the portion of salary to be saved\"))\n",
    "# total_cost = float(input(\"Enter the cost of your dream home\"))\n",
    "\n",
    "annual_salary = 120000\n",
    "portion_saved = 0.1\n",
    "total_cost = float(input(\"Enter the cost of your dream home\"))\n",
    "\n",
    "portion_down_payment = 0.25 * total_cost\n",
    "current_savings = 0\n",
    "r = 0.04\n",
    "months = 0\n",
    "while current_savings < portion_down_payment:\n",
    "    current_savings += current_savings * r / 12 + annual_salary / 12 * portion_saved\n",
    "    months += 1\n",
    "    # print(months)\n",
    "    # print(current_savings)\n",
    "    # print(portion_down_payment)\n",
    "    \n",
    "print(\"Number of months:\", months)"
   ]
  },
  {
   "cell_type": "code",
   "execution_count": 1,
   "metadata": {},
   "outputs": [
    {
     "name": "stdout",
     "output_type": "stream",
     "text": [
      "Number of months: 183\n"
     ]
    }
   ],
   "source": [
    "# annual_salary = float(input(\"Enter the starting annual salary\"))\n",
    "# portion_saved = float(input(\"Enter the portion of salary to be saved\"))\n",
    "# total_cost = float(input(\"Enter the cost of your dream home\"))\n",
    "\n",
    "annual_salary = 120000\n",
    "portion_saved = 0.1\n",
    "total_cost = 1000000\n",
    "\n",
    "portion_down_payment = 0.25 * total_cost\n",
    "current_savings = 0\n",
    "r = 0.04\n",
    "months = 0\n",
    "while current_savings < portion_down_payment:\n",
    "    current_savings += current_savings * r / 12 + annual_salary / 12 * portion_saved\n",
    "    months += 1\n",
    "    # print(months)\n",
    "    # print(current_savings)\n",
    "    # print(portion_down_payment)\n",
    "    \n",
    "print(\"Number of months:\", months)\n"
   ]
  },
  {
   "cell_type": "code",
   "execution_count": 3,
   "metadata": {},
   "outputs": [
    {
     "name": "stdout",
     "output_type": "stream",
     "text": [
      "Number of months: 142\n"
     ]
    }
   ],
   "source": [
    "# annual_salary = float(input(\"Enter the starting annual salary\"))\n",
    "# portion_saved = float(input(\"Enter the portion of salary to be saved\"))\n",
    "# total_cost = float(input(\"Enter the cost of your dream home\"))\n",
    "\n",
    "annual_salary = 120000\n",
    "portion_saved = 0.05\n",
    "total_cost = 500000\n",
    "\n",
    "portion_down_payment = 0.25 * total_cost\n",
    "current_savings = 0\n",
    "r = 0.04\n",
    "months = 0\n",
    "semi_annual_raise = 0.03\n",
    "\n",
    "while current_savings < portion_down_payment:\n",
    "    current_savings += current_savings * r / 12 + annual_salary / 12 * portion_saved\n",
    "    months += 1\n",
    "    if months % 6 == 0:\n",
    "        annual_salary += annual_salary*semi_annual_raise\n",
    "    \n",
    "print(\"Number of months:\", months)\n"
   ]
  },
  {
   "cell_type": "code",
   "execution_count": 4,
   "metadata": {},
   "outputs": [
    {
     "name": "stdout",
     "output_type": "stream",
     "text": [
      "Number of months: 159\n"
     ]
    }
   ],
   "source": [
    "annual_salary = 80000\n",
    "portion_saved = 0.1\n",
    "total_cost = 800000\n",
    "\n",
    "portion_down_payment = 0.25 * total_cost\n",
    "current_savings = 0\n",
    "r = 0.04\n",
    "months = 0\n",
    "semi_annual_raise = 0.03\n",
    "\n",
    "while current_savings < portion_down_payment:\n",
    "    current_savings += current_savings * r / 12 + annual_salary / 12 * portion_saved\n",
    "    months += 1\n",
    "    if months % 6 == 0:\n",
    "        annual_salary += annual_salary*semi_annual_raise\n",
    "    \n",
    "print(\"Number of months:\", months)\n"
   ]
  },
  {
   "cell_type": "code",
   "execution_count": 3,
   "metadata": {},
   "outputs": [
    {
     "name": "stdout",
     "output_type": "stream",
     "text": [
      "Number of months: 19\n"
     ]
    }
   ],
   "source": [
    "annual_salary = float(input(\"Enter the starting annual salary\"))\n",
    "portion_saved = float(input(\"Enter the portion of salary to be saved\"))\n",
    "total_cost = float(input(\"Enter the cost of your dream home\"))\n",
    "semi_annual_raise = float(input(\"Enter the semi-annual raise\"))\n",
    "\n",
    "portion_down_payment = 0.25 * total_cost\n",
    "current_savings = 0\n",
    "r = 0.04\n",
    "months = 0\n",
    "while current_savings < portion_down_payment:\n",
    "    current_savings += current_savings * r / 12 + annual_salary / 12 * portion_saved\n",
    "    months += 1\n",
    "    if months % 6 == 0:  \n",
    "        annual_salary *= (1 + semi_annual_raise)\n",
    "    \n",
    "print(\"Number of months:\", months)\n",
    "\n"
   ]
  },
  {
   "cell_type": "code",
   "execution_count": 22,
   "metadata": {},
   "outputs": [
    {
     "name": "stdout",
     "output_type": "stream",
     "text": [
      "It is not possible to pay the down payment in 200 years.\n"
     ]
    }
   ],
   "source": [
    "annual_salary = float(input(\"Enter the starting annual salary\"))\n",
    "portion_saved = float(input(\"Enter the portion of salary to be saved\"))\n",
    "total_cost = float(input(\"Enter the cost of your dream home\"))\n",
    "portion_down_payment = 0.25 * total_cost\n",
    "current_savings = 0\n",
    "r = 0.04\n",
    "months = 0\n",
    "if annual_salary < portion_down_payment:\n",
    "    print(\"It is not possible to pay the down payment in 150 years.\")\n",
    "else:\n",
    "    print(\" check futher possible to pay the down payment.\")\n",
    "#      current_savings += current_savings * r / 12 + annual_salary / 12 * portion_saved\n",
    "# print(\"Number of months:\", months)\n",
    "\n",
    "    # while current_savings < portion_down_payment:\n",
    "    #     current_savings += current_savings * r / 12\n",
    "    #     current_savings += annual_salary / 12 * portion_saved\n",
    "    #     months += 1\n",
    "     \n",
    "\n"
   ]
  },
  {
   "cell_type": "code",
   "execution_count": 36,
   "metadata": {},
   "outputs": [
    {
     "ename": "IndentationError",
     "evalue": "unexpected indent (239923352.py, line 10)",
     "output_type": "error",
     "traceback": [
      "\u001b[0;36m  Cell \u001b[0;32mIn[36], line 10\u001b[0;36m\u001b[0m\n\u001b[0;31m    current_savings += current_savings * (0.04 / 12)\u001b[0m\n\u001b[0m    ^\u001b[0m\n\u001b[0;31mIndentationError\u001b[0m\u001b[0;31m:\u001b[0m unexpected indent\n"
     ]
    }
   ],
   "source": [
    "annual_salary = float(input(\"Enter your annual salary: \"))\n",
    "portion_saved = float(input(\"Enter the portion of your salary to be saved (as a decimal): \"))\n",
    "total_cost = float(input(\"Enter the cost of your dream home:\"))\n",
    "portion_down_payment = 0.25 * total_cost\n",
    "current_savings = 0\n",
    "r = 0.04\n",
    "months = 0\n",
    "for month in range(1, 1000):\n",
    "    monthly_salary = annual_salary / 12\n",
    "        current_savings += current_savings * (0.04 / 12)\n",
    "        current_savings += portion_saved * monthly_salary\n",
    "        months += 1\n",
    "        if current_savings >= portion_down_payment:\n",
    "            print(\"Number of months:\", months)\n",
    "            break\n",
    "    else:\n",
    "            continue\n",
    "\n",
    "\n"
   ]
  },
  {
   "cell_type": "code",
   "execution_count": 32,
   "metadata": {},
   "outputs": [
    {
     "name": "stdout",
     "output_type": "stream",
     "text": [
      "6 3025.1113892594653\n",
      "123600.0\n",
      "12 6201.984779646231\n",
      "127308.0\n",
      "18 9536.403417797743\n",
      "131127.24\n",
      "24 13034.348861460758\n",
      "135061.05719999998\n",
      "30 16702.007429252866\n",
      "139112.88891599997\n",
      "36 20545.77685400921\n",
      "143286.27558347996\n",
      "42 24572.273146025487\n",
      "147584.86385098437\n",
      "48 28788.33767270173\n",
      "152012.4097665139\n",
      "54 33201.044461290796\n",
      "156572.78205950934\n",
      "60 37817.70773166072\n",
      "161269.96552129462\n",
      "66 42645.88966619185\n",
      "166108.06448693346\n",
      "72 47693.40842414775\n",
      "171091.30642154146\n",
      "78 52968.34640808342\n",
      "176224.0456141877\n",
      "84 58479.058790086136\n",
      "181510.76698261334\n",
      "90 64234.18230588259\n",
      "186956.08999209173\n",
      "96 70242.644325092\n",
      "192564.77269185448\n",
      "102 76513.67220615801\n",
      "198341.7158726101\n",
      "108 83056.80294475325\n",
      "204291.9673487884\n",
      "114 89881.89312471963\n",
      "210420.72636925205\n",
      "120 96999.12918088386\n",
      "216733.34816032962\n",
      "126 104419.03798337407\n",
      "223235.3486051395\n",
      "132 112152.49775335685\n",
      "229932.4090632937\n",
      "138 120210.74932041766\n",
      "236830.3813351925\n"
     ]
    }
   ],
   "source": [
    "annual_salary = float(input(\"Enter your annual salary: \"))\n",
    "portion_saved = float(input(\"Enter the portion of your salary to be saved (as a decimal): \"))\n",
    "total_cost = float(input(\"Enter the cost of your dream home:\"))\n",
    "semi_annual_raise = float(input(\"Enter the semi-annual raise, as a decimal:\"))\n",
    "portion_down_payment = 0.25\n",
    "current_savings = 0\n",
    "r = 0.04\n",
    "months = 0\n",
    "while current_savings < portion_down_payment * total_cost:\n",
    "    current_savings += current_savings * r / 12 + annual_salary / 12 * portion_saved\n",
    "    months += 1\n",
    "    if months % 6 == 0:\n",
    "        annual_salary += annual_salary * semi_annual_raise\n",
    "        print(months, current_savings)\n",
    "        print(annual_salary)\n",
    "       \n",
    "\n",
    "        "
   ]
  }
 ],
 "metadata": {
  "kernelspec": {
   "display_name": "Python 3",
   "language": "python",
   "name": "python3"
  },
  "language_info": {
   "codemirror_mode": {
    "name": "ipython",
    "version": 3
   },
   "file_extension": ".py",
   "mimetype": "text/x-python",
   "name": "python",
   "nbconvert_exporter": "python",
   "pygments_lexer": "ipython3",
   "version": "3.10.12"
  }
 },
 "nbformat": 4,
 "nbformat_minor": 2
}
